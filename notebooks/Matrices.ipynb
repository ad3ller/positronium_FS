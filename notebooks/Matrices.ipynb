{
 "cells": [
  {
   "cell_type": "code",
   "execution_count": 1,
   "metadata": {},
   "outputs": [],
   "source": [
    "from pyps import Basis, Hamiltonian"
   ]
  },
  {
   "cell_type": "code",
   "execution_count": 2,
   "metadata": {},
   "outputs": [],
   "source": [
    "mat = Hamiltonian(Basis(n_values=range(2, 4), S_values=[0], MJ_values=[0]))"
   ]
  },
  {
   "cell_type": "code",
   "execution_count": 3,
   "metadata": {},
   "outputs": [
    {
     "data": {
      "text/plain": [
       "<5x5 sparse matrix of type '<class 'numpy.float64'>'\n",
       "\twith 5 stored elements (1 diagonals) in DIAgonal format>"
      ]
     },
     "execution_count": 3,
     "metadata": {},
     "output_type": "execute_result"
    }
   ],
   "source": [
    "h0 = mat.h0_matrix()\n",
    "h0"
   ]
  },
  {
   "cell_type": "code",
   "execution_count": 4,
   "metadata": {},
   "outputs": [
    {
     "data": {
      "text/plain": [
       "matrix([[-0.06250276,  0.        ,  0.        ,  0.        ,  0.        ],\n",
       "        [ 0.        , -0.06250054,  0.        ,  0.        ,  0.        ],\n",
       "        [ 0.        ,  0.        , -0.02777865,  0.        ,  0.        ],\n",
       "        [ 0.        ,  0.        ,  0.        , -0.02777799,  0.        ],\n",
       "        [ 0.        ,  0.        ,  0.        ,  0.        , -0.02777786]])"
      ]
     },
     "execution_count": 4,
     "metadata": {},
     "output_type": "execute_result"
    }
   ],
   "source": [
    "h0.todense()"
   ]
  },
  {
   "cell_type": "code",
   "execution_count": 5,
   "metadata": {},
   "outputs": [
    {
     "name": "stderr",
     "output_type": "stream",
     "text": [
      "calculate Stark terms: 100%|██████████| 5/5 [00:00<00:00,  5.04it/s]\n",
      "calculate Zeeman terms: 100%|██████████| 5/5 [00:00<00:00, 779.12it/s]\n"
     ]
    },
    {
     "data": {
      "text/plain": [
       "<5x5 sparse matrix of type '<class 'numpy.float64'>'\n",
       "\twith 17 stored elements in Compressed Sparse Row format>"
      ]
     },
     "execution_count": 5,
     "metadata": {},
     "output_type": "execute_result"
    }
   ],
   "source": [
    "H = mat.matrix(Fz=10, Bz=.1)\n",
    "H"
   ]
  },
  {
   "cell_type": "code",
   "execution_count": 6,
   "metadata": {},
   "outputs": [
    {
     "data": {
      "text/plain": [
       "array([[-6.25027562e-02, -6.00000000e+01,  0.00000000e+00,\n",
       "         3.53894400e+01,  0.00000000e+00],\n",
       "       [-6.00000000e+01, -6.25005374e-02,  1.08357588e+01,\n",
       "         0.00000000e+00, -4.90370465e+01],\n",
       "       [ 0.00000000e+00,  1.08357588e+01, -2.77786509e-02,\n",
       "        -1.46969385e+02,  0.00000000e+00],\n",
       "       [ 3.53894400e+01,  0.00000000e+00, -1.46969385e+02,\n",
       "        -2.77779935e-02,  1.03923048e+02],\n",
       "       [ 0.00000000e+00, -4.90370465e+01,  0.00000000e+00,\n",
       "         1.03923048e+02, -2.77778620e-02]])"
      ]
     },
     "execution_count": 6,
     "metadata": {},
     "output_type": "execute_result"
    }
   ],
   "source": [
    "H.toarray()"
   ]
  },
  {
   "cell_type": "code",
   "execution_count": 7,
   "metadata": {},
   "outputs": [
    {
     "data": {
      "text/plain": [
       "(array([-1.70078663, -1.70072625, -0.75589559, -0.7558777 , -0.75587413]),\n",
       " array([[1., 0., 0., 0., 0.],\n",
       "        [0., 1., 0., 0., 0.],\n",
       "        [0., 0., 1., 0., 0.],\n",
       "        [0., 0., 0., 1., 0.],\n",
       "        [0., 0., 0., 0., 1.]]))"
      ]
     },
     "execution_count": 7,
     "metadata": {},
     "output_type": "execute_result"
    }
   ],
   "source": [
    "mat.eigenvectors(units='eV')"
   ]
  },
  {
   "cell_type": "code",
   "execution_count": null,
   "metadata": {},
   "outputs": [],
   "source": []
  }
 ],
 "metadata": {
  "kernelspec": {
   "display_name": "Python 3",
   "language": "python",
   "name": "python3"
  },
  "language_info": {
   "codemirror_mode": {
    "name": "ipython",
    "version": 3
   },
   "file_extension": ".py",
   "mimetype": "text/x-python",
   "name": "python",
   "nbconvert_exporter": "python",
   "pygments_lexer": "ipython3",
   "version": "3.7.4"
  }
 },
 "nbformat": 4,
 "nbformat_minor": 4
}
