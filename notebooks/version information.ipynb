{
 "cells": [
  {
   "cell_type": "markdown",
   "metadata": {},
   "source": [
    "Requires `version_information` and `tabulate`."
   ]
  },
  {
   "cell_type": "code",
   "execution_count": 1,
   "metadata": {},
   "outputs": [],
   "source": [
    "%load_ext version_information"
   ]
  },
  {
   "cell_type": "code",
   "execution_count": 2,
   "metadata": {},
   "outputs": [
    {
     "data": {
      "application/json": {
       "Software versions": [
        {
         "module": "Python",
         "version": "3.7.3 64bit [GCC 7.3.0]"
        },
        {
         "module": "IPython",
         "version": "7.9.0"
        },
        {
         "module": "OS",
         "version": "Linux 5.0.0 27 generic x86_64 with debian buster sid"
        },
        {
         "module": "cython",
         "version": "0.29.12"
        },
        {
         "module": "matplotlib",
         "version": "3.1.0"
        },
        {
         "module": "numerov",
         "version": "0.0.5"
        },
        {
         "module": "numpy",
         "version": "1.16.4"
        },
        {
         "module": "sympy",
         "version": "1.4"
        },
        {
         "module": "tqdm",
         "version": "4.39.0"
        }
       ]
      },
      "text/html": [
       "<table><tr><th>Software</th><th>Version</th></tr><tr><td>Python</td><td>3.7.3 64bit [GCC 7.3.0]</td></tr><tr><td>IPython</td><td>7.9.0</td></tr><tr><td>OS</td><td>Linux 5.0.0 27 generic x86_64 with debian buster sid</td></tr><tr><td>cython</td><td>0.29.12</td></tr><tr><td>matplotlib</td><td>3.1.0</td></tr><tr><td>numerov</td><td>0.0.5</td></tr><tr><td>numpy</td><td>1.16.4</td></tr><tr><td>sympy</td><td>1.4</td></tr><tr><td>tqdm</td><td>4.39.0</td></tr><tr><td colspan='2'>Sat Dec 14 12:29:43 2019 GMT</td></tr></table>"
      ],
      "text/latex": [
       "\\begin{tabular}{|l|l|}\\hline\n",
       "{\\bf Software} & {\\bf Version} \\\\ \\hline\\hline\n",
       "Python & 3.7.3 64bit [GCC 7.3.0] \\\\ \\hline\n",
       "IPython & 7.9.0 \\\\ \\hline\n",
       "OS & Linux 5.0.0 27 generic x86\\_64 with debian buster sid \\\\ \\hline\n",
       "cython & 0.29.12 \\\\ \\hline\n",
       "matplotlib & 3.1.0 \\\\ \\hline\n",
       "numerov & 0.0.5 \\\\ \\hline\n",
       "numpy & 1.16.4 \\\\ \\hline\n",
       "sympy & 1.4 \\\\ \\hline\n",
       "tqdm & 4.39.0 \\\\ \\hline\n",
       "\\hline \\multicolumn{2}{|l|}{Sat Dec 14 12:29:43 2019 GMT} \\\\ \\hline\n",
       "\\end{tabular}\n"
      ],
      "text/plain": [
       "Software versions\n",
       "Python 3.7.3 64bit [GCC 7.3.0]\n",
       "IPython 7.9.0\n",
       "OS Linux 5.0.0 27 generic x86_64 with debian buster sid\n",
       "cython 0.29.12\n",
       "matplotlib 3.1.0\n",
       "numerov 0.0.5\n",
       "numpy 1.16.4\n",
       "sympy 1.4\n",
       "tqdm 4.39.0\n",
       "Sat Dec 14 12:29:43 2019 GMT"
      ]
     },
     "execution_count": 2,
     "metadata": {},
     "output_type": "execute_result"
    }
   ],
   "source": [
    "ver = %version_information cython, matplotlib, numerov, numpy, sympy, tqdm\n",
    "ver"
   ]
  },
  {
   "cell_type": "code",
   "execution_count": 3,
   "metadata": {},
   "outputs": [
    {
     "name": "stdout",
     "output_type": "stream",
     "text": [
      "==========  ====================================================\n",
      "Python      3.7.3 64bit [GCC 7.3.0]\n",
      "IPython     7.9.0\n",
      "OS          Linux 5.0.0 27 generic x86_64 with debian buster sid\n",
      "cython      0.29.12\n",
      "matplotlib  3.1.0\n",
      "numerov     0.0.5\n",
      "numpy       1.16.4\n",
      "sympy       1.4\n",
      "tqdm        4.39.0\n",
      "==========  ====================================================\n"
     ]
    }
   ],
   "source": [
    "from tabulate import tabulate\n",
    "print(tabulate(ver.packages,  tablefmt='rst'))"
   ]
  },
  {
   "cell_type": "code",
   "execution_count": null,
   "metadata": {},
   "outputs": [],
   "source": []
  }
 ],
 "metadata": {
  "kernelspec": {
   "display_name": "Python 3",
   "language": "python",
   "name": "python3"
  },
  "language_info": {
   "codemirror_mode": {
    "name": "ipython",
    "version": 3
   },
   "file_extension": ".py",
   "mimetype": "text/x-python",
   "name": "python",
   "nbconvert_exporter": "python",
   "pygments_lexer": "ipython3",
   "version": "3.7.3"
  }
 },
 "nbformat": 4,
 "nbformat_minor": 2
}
