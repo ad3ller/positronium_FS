{
 "cells": [
  {
   "cell_type": "markdown",
   "metadata": {},
   "source": [
    "Requires `version_information` and `tabulate`."
   ]
  },
  {
   "cell_type": "code",
   "execution_count": 1,
   "metadata": {},
   "outputs": [],
   "source": [
    "%load_ext version_information"
   ]
  },
  {
   "cell_type": "code",
   "execution_count": 2,
   "metadata": {},
   "outputs": [
    {
     "data": {
      "application/json": {
       "Software versions": [
        {
         "module": "Python",
         "version": "3.7.3 64bit [GCC 7.3.0]"
        },
        {
         "module": "IPython",
         "version": "7.4.0"
        },
        {
         "module": "OS",
         "version": "Linux 5.0.0 15 generic x86_64 with debian buster sid"
        },
        {
         "module": "matplotlib",
         "version": "3.0.3"
        },
        {
         "module": "numba",
         "version": "0.43.1"
        },
        {
         "module": "numpy",
         "version": "1.16.2"
        },
        {
         "module": "scipy",
         "version": "1.2.1"
        },
        {
         "module": "sympy",
         "version": "1.3"
        },
        {
         "module": "tabulate",
         "version": "0.8.3"
        },
        {
         "module": "tqdm",
         "version": "4.31.1"
        },
        {
         "module": "version_information",
         "version": "1.0.3"
        }
       ]
      },
      "text/html": [
       "<table><tr><th>Software</th><th>Version</th></tr><tr><td>Python</td><td>3.7.3 64bit [GCC 7.3.0]</td></tr><tr><td>IPython</td><td>7.4.0</td></tr><tr><td>OS</td><td>Linux 5.0.0 15 generic x86_64 with debian buster sid</td></tr><tr><td>matplotlib</td><td>3.0.3</td></tr><tr><td>numba</td><td>0.43.1</td></tr><tr><td>numpy</td><td>1.16.2</td></tr><tr><td>scipy</td><td>1.2.1</td></tr><tr><td>sympy</td><td>1.3</td></tr><tr><td>tabulate</td><td>0.8.3</td></tr><tr><td>tqdm</td><td>4.31.1</td></tr><tr><td>version_information</td><td>1.0.3</td></tr><tr><td colspan='2'>Wed Jul 03 22:42:25 2019 BST</td></tr></table>"
      ],
      "text/latex": [
       "\\begin{tabular}{|l|l|}\\hline\n",
       "{\\bf Software} & {\\bf Version} \\\\ \\hline\\hline\n",
       "Python & 3.7.3 64bit [GCC 7.3.0] \\\\ \\hline\n",
       "IPython & 7.4.0 \\\\ \\hline\n",
       "OS & Linux 5.0.0 15 generic x86\\_64 with debian buster sid \\\\ \\hline\n",
       "matplotlib & 3.0.3 \\\\ \\hline\n",
       "numba & 0.43.1 \\\\ \\hline\n",
       "numpy & 1.16.2 \\\\ \\hline\n",
       "scipy & 1.2.1 \\\\ \\hline\n",
       "sympy & 1.3 \\\\ \\hline\n",
       "tabulate & 0.8.3 \\\\ \\hline\n",
       "tqdm & 4.31.1 \\\\ \\hline\n",
       "version_information & 1.0.3 \\\\ \\hline\n",
       "\\hline \\multicolumn{2}{|l|}{Wed Jul 03 22:42:25 2019 BST} \\\\ \\hline\n",
       "\\end{tabular}\n"
      ],
      "text/plain": [
       "Software versions\n",
       "Python 3.7.3 64bit [GCC 7.3.0]\n",
       "IPython 7.4.0\n",
       "OS Linux 5.0.0 15 generic x86_64 with debian buster sid\n",
       "matplotlib 3.0.3\n",
       "numba 0.43.1\n",
       "numpy 1.16.2\n",
       "scipy 1.2.1\n",
       "sympy 1.3\n",
       "tabulate 0.8.3\n",
       "tqdm 4.31.1\n",
       "version_information 1.0.3\n",
       "Wed Jul 03 22:42:25 2019 BST"
      ]
     },
     "execution_count": 2,
     "metadata": {},
     "output_type": "execute_result"
    }
   ],
   "source": [
    "ver = %version_information matplotlib, numba, numpy, scipy, sympy, tabulate, tqdm, version_information\n",
    "ver"
   ]
  },
  {
   "cell_type": "code",
   "execution_count": 3,
   "metadata": {},
   "outputs": [
    {
     "name": "stdout",
     "output_type": "stream",
     "text": [
      "===================  ====================================================\n",
      "Python               3.7.3 64bit [GCC 7.3.0]\n",
      "IPython              7.4.0\n",
      "OS                   Linux 5.0.0 15 generic x86_64 with debian buster sid\n",
      "matplotlib           3.0.3\n",
      "numba                0.43.1\n",
      "numpy                1.16.2\n",
      "scipy                1.2.1\n",
      "sympy                1.3\n",
      "tabulate             0.8.3\n",
      "tqdm                 4.31.1\n",
      "version_information  1.0.3\n",
      "===================  ====================================================\n"
     ]
    }
   ],
   "source": [
    "from tabulate import tabulate\n",
    "print(tabulate(ver.packages,  tablefmt='rst'))"
   ]
  }
 ],
 "metadata": {
  "kernelspec": {
   "display_name": "Python 3",
   "language": "python",
   "name": "python3"
  },
  "language_info": {
   "codemirror_mode": {
    "name": "ipython",
    "version": 3
   },
   "file_extension": ".py",
   "mimetype": "text/x-python",
   "name": "python",
   "nbconvert_exporter": "python",
   "pygments_lexer": "ipython3",
   "version": "3.7.3"
  }
 },
 "nbformat": 4,
 "nbformat_minor": 2
}
