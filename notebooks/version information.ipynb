{
 "cells": [
  {
   "cell_type": "markdown",
   "metadata": {},
   "source": [
    "requires `version_information` and `tabulate` (install using pip)."
   ]
  },
  {
   "cell_type": "code",
   "execution_count": 1,
   "metadata": {
    "collapsed": true
   },
   "outputs": [],
   "source": [
    "%load_ext version_information"
   ]
  },
  {
   "cell_type": "code",
   "execution_count": 2,
   "metadata": {},
   "outputs": [
    {
     "data": {
      "application/json": {
       "Software versions": [
        {
         "module": "Python",
         "version": "3.6.2 64bit [GCC 7.2.0]"
        },
        {
         "module": "IPython",
         "version": "6.1.0"
        },
        {
         "module": "OS",
         "version": "Linux 4.13.0 38 generic x86_64 with debian stretch sid"
        },
        {
         "module": "attr",
         "version": "17.3.0"
        },
        {
         "module": "matplotlib",
         "version": "2.0.2"
        },
        {
         "module": "numba",
         "version": "0.35.0+10.g143f70e90"
        },
        {
         "module": "numpy",
         "version": "1.13.3"
        },
        {
         "module": "scipy",
         "version": "0.19.1"
        },
        {
         "module": "sympy",
         "version": "1.1.1"
        },
        {
         "module": "tabulate",
         "version": "0.8.1"
        },
        {
         "module": "tqdm",
         "version": "4.19.4"
        },
        {
         "module": "version_information",
         "version": "1.0.3"
        }
       ]
      },
      "text/html": [
       "<table><tr><th>Software</th><th>Version</th></tr><tr><td>Python</td><td>3.6.2 64bit [GCC 7.2.0]</td></tr><tr><td>IPython</td><td>6.1.0</td></tr><tr><td>OS</td><td>Linux 4.13.0 38 generic x86_64 with debian stretch sid</td></tr><tr><td>attr</td><td>17.3.0</td></tr><tr><td>matplotlib</td><td>2.0.2</td></tr><tr><td>numba</td><td>0.35.0+10.g143f70e90</td></tr><tr><td>numpy</td><td>1.13.3</td></tr><tr><td>scipy</td><td>0.19.1</td></tr><tr><td>sympy</td><td>1.1.1</td></tr><tr><td>tabulate</td><td>0.8.1</td></tr><tr><td>tqdm</td><td>4.19.4</td></tr><tr><td>version_information</td><td>1.0.3</td></tr><tr><td colspan='2'>Sat May 12 16:42:17 2018 BST</td></tr></table>"
      ],
      "text/latex": [
       "\\begin{tabular}{|l|l|}\\hline\n",
       "{\\bf Software} & {\\bf Version} \\\\ \\hline\\hline\n",
       "Python & 3.6.2 64bit [GCC 7.2.0] \\\\ \\hline\n",
       "IPython & 6.1.0 \\\\ \\hline\n",
       "OS & Linux 4.13.0 38 generic x86\\_64 with debian stretch sid \\\\ \\hline\n",
       "attr & 17.3.0 \\\\ \\hline\n",
       "matplotlib & 2.0.2 \\\\ \\hline\n",
       "numba & 0.35.0+10.g143f70e90 \\\\ \\hline\n",
       "numpy & 1.13.3 \\\\ \\hline\n",
       "scipy & 0.19.1 \\\\ \\hline\n",
       "sympy & 1.1.1 \\\\ \\hline\n",
       "tabulate & 0.8.1 \\\\ \\hline\n",
       "tqdm & 4.19.4 \\\\ \\hline\n",
       "version_information & 1.0.3 \\\\ \\hline\n",
       "\\hline \\multicolumn{2}{|l|}{Sat May 12 16:42:17 2018 BST} \\\\ \\hline\n",
       "\\end{tabular}\n"
      ],
      "text/plain": [
       "Software versions\n",
       "Python 3.6.2 64bit [GCC 7.2.0]\n",
       "IPython 6.1.0\n",
       "OS Linux 4.13.0 38 generic x86_64 with debian stretch sid\n",
       "attr 17.3.0\n",
       "matplotlib 2.0.2\n",
       "numba 0.35.0+10.g143f70e90\n",
       "numpy 1.13.3\n",
       "scipy 0.19.1\n",
       "sympy 1.1.1\n",
       "tabulate 0.8.1\n",
       "tqdm 4.19.4\n",
       "version_information 1.0.3\n",
       "Sat May 12 16:42:17 2018 BST"
      ]
     },
     "execution_count": 2,
     "metadata": {},
     "output_type": "execute_result"
    }
   ],
   "source": [
    "ver = %version_information attr, matplotlib, numba, numpy, scipy, sympy, tabulate, tqdm, version_information\n",
    "ver"
   ]
  },
  {
   "cell_type": "code",
   "execution_count": 3,
   "metadata": {},
   "outputs": [
    {
     "name": "stdout",
     "output_type": "stream",
     "text": [
      "===================  ======================================================\n",
      "Python               3.6.2 64bit [GCC 7.2.0]\n",
      "IPython              6.1.0\n",
      "OS                   Linux 4.13.0 38 generic x86_64 with debian stretch sid\n",
      "attr                 17.3.0\n",
      "matplotlib           2.0.2\n",
      "numba                0.35.0+10.g143f70e90\n",
      "numpy                1.13.3\n",
      "scipy                0.19.1\n",
      "sympy                1.1.1\n",
      "tabulate             0.8.1\n",
      "tqdm                 4.19.4\n",
      "version_information  1.0.3\n",
      "===================  ======================================================\n"
     ]
    }
   ],
   "source": [
    "from tabulate import tabulate\n",
    "print(tabulate(ver.packages,  tablefmt='rst'))"
   ]
  },
  {
   "cell_type": "code",
   "execution_count": null,
   "metadata": {
    "collapsed": true
   },
   "outputs": [],
   "source": []
  }
 ],
 "metadata": {
  "kernelspec": {
   "display_name": "Python 3",
   "language": "python",
   "name": "python3"
  },
  "language_info": {
   "codemirror_mode": {
    "name": "ipython",
    "version": 3
   },
   "file_extension": ".py",
   "mimetype": "text/x-python",
   "name": "python",
   "nbconvert_exporter": "python",
   "pygments_lexer": "ipython3",
   "version": "3.6.2"
  }
 },
 "nbformat": 4,
 "nbformat_minor": 2
}
