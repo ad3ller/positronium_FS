{
 "cells": [
  {
   "cell_type": "code",
   "execution_count": 1,
   "metadata": {},
   "outputs": [],
   "source": [
    "from IPython.display import display, Math"
   ]
  },
  {
   "cell_type": "code",
   "execution_count": 2,
   "metadata": {},
   "outputs": [],
   "source": [
    "from psfs import Basis, Hamiltonian"
   ]
  },
  {
   "cell_type": "code",
   "execution_count": 3,
   "metadata": {},
   "outputs": [
    {
     "name": "stdout",
     "output_type": "stream",
     "text": [
      " A UserList of States\n",
      "\n",
      "    args:\n",
      "        n_values :: Iterable\n",
      "        L_values :: None or Iterable (default: range(n))\n",
      "        S_values :: None or Iterable (default: [0, 1])\n",
      "        MJ_values :: None or Iterable (default: [-J, ... J])\n",
      "\n",
      "        filter_function :: None or Function\n",
      "        sort_key :: None or Function [default: energy()]\n",
      "\n",
      "    attributes:\n",
      "        data :: list\n",
      "        num_states :: int\n",
      "\n",
      "    methods:\n",
      "        where\n",
      "            generate a subset of the basis\n",
      "        argwhere\n",
      "            generate indexes of a subset of the basis\n",
      "\n",
      "    \n"
     ]
    }
   ],
   "source": [
    "print(Basis.__doc__)"
   ]
  },
  {
   "cell_type": "code",
   "execution_count": 4,
   "metadata": {},
   "outputs": [
    {
     "name": "stdout",
     "output_type": "stream",
     "text": [
      "number of basis states: 56\n"
     ]
    }
   ],
   "source": [
    "basis = Basis(n_values=range(4))\n",
    "assert basis.num_states == 56\n",
    "print('number of basis states:', '%d'%basis.num_states)"
   ]
  },
  {
   "cell_type": "code",
   "execution_count": 5,
   "metadata": {},
   "outputs": [
    {
     "data": {
      "text/plain": [
       "State(n=1, L=0, S=0, J=0, MJ=0)"
      ]
     },
     "execution_count": 5,
     "metadata": {},
     "output_type": "execute_result"
    }
   ],
   "source": [
    "basis[0]"
   ]
  },
  {
   "cell_type": "code",
   "execution_count": 6,
   "metadata": {},
   "outputs": [
    {
     "data": {
      "text/plain": [
       "'-6.8033 eV'"
      ]
     },
     "execution_count": 6,
     "metadata": {},
     "output_type": "execute_result"
    }
   ],
   "source": [
    "\"%.4f eV\"%basis[0].energy(units='eV')"
   ]
  },
  {
   "cell_type": "code",
   "execution_count": 7,
   "metadata": {},
   "outputs": [
    {
     "data": {
      "text/latex": [
       "$\\displaystyle 1^1S_0\\,(M_J = 0)$"
      ],
      "text/plain": [
       "<IPython.core.display.Math object>"
      ]
     },
     "metadata": {},
     "output_type": "display_data"
    }
   ],
   "source": [
    "display(Math(basis[0].tex()))"
   ]
  },
  {
   "cell_type": "code",
   "execution_count": 8,
   "metadata": {},
   "outputs": [
    {
     "name": "stdout",
     "output_type": "stream",
     "text": [
      "❘1 0 0 0 0⟩\n"
     ]
    }
   ],
   "source": [
    "mat = Hamiltonian(basis)\n",
    "print(mat.basis[0])"
   ]
  },
  {
   "cell_type": "code",
   "execution_count": 9,
   "metadata": {},
   "outputs": [
    {
     "name": "stdout",
     "output_type": "stream",
     "text": [
      "❘1 0 0 0 0⟩\n",
      "❘2 0 0 0 0⟩\n",
      "❘2 1 0 1 0⟩\n",
      "❘3 0 0 0 0⟩\n",
      "❘3 1 0 1 0⟩\n",
      "❘3 2 0 2 0⟩\n",
      "❘2 1 1 1 0⟩\n",
      "❘3 1 1 1 0⟩\n",
      "❘3 2 1 2 0⟩\n"
     ]
    }
   ],
   "source": [
    "sub_basis = Basis(range(4), MJ_values=[0], filter_function=lambda x: x.J==x.L, sort_key=lambda x: x.S)\n",
    "print(*sub_basis, sep=\"\\n\")"
   ]
  },
  {
   "cell_type": "code",
   "execution_count": null,
   "metadata": {},
   "outputs": [],
   "source": []
  }
 ],
 "metadata": {
  "kernelspec": {
   "display_name": "Python 3",
   "language": "python",
   "name": "python3"
  },
  "language_info": {
   "codemirror_mode": {
    "name": "ipython",
    "version": 3
   },
   "file_extension": ".py",
   "mimetype": "text/x-python",
   "name": "python",
   "nbconvert_exporter": "python",
   "pygments_lexer": "ipython3",
   "version": "3.7.3"
  }
 },
 "nbformat": 4,
 "nbformat_minor": 2
}
