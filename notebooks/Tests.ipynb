{
 "cells": [
  {
   "cell_type": "code",
   "execution_count": 1,
   "metadata": {},
   "outputs": [],
   "source": [
    "from IPython.display import display, Math\n",
    "from pyps import Basis, Hamiltonian"
   ]
  },
  {
   "cell_type": "code",
   "execution_count": 2,
   "metadata": {},
   "outputs": [
    {
     "name": "stdout",
     "output_type": "stream",
     "text": [
      " A UserList of States\n",
      "\n",
      "    args:\n",
      "        n_values :: Iterable\n",
      "        L_values ::  Iterable (range(n) if None)\n",
      "        S_values ::  Iterable ([0, 1] if None)\n",
      "        MJ_values :: Iterable ([-J, ... J] if None)\n",
      "\n",
      "        filter_function :: None or Function\n",
      "        sort_key :: None or Function [default: energy()]\n",
      "\n",
      "    attributes:\n",
      "        data :: list\n",
      "        num_states :: int\n",
      "\n",
      "    methods:\n",
      "        values\n",
      "            attribute values of the basis\n",
      "        where\n",
      "            a subset of the basis\n",
      "        argwhere\n",
      "            indexes of a subset of the basis\n",
      "    \n"
     ]
    }
   ],
   "source": [
    "print(Basis.__doc__)"
   ]
  },
  {
   "cell_type": "code",
   "execution_count": 3,
   "metadata": {},
   "outputs": [
    {
     "name": "stdout",
     "output_type": "stream",
     "text": [
      "number of basis states: 56\n"
     ]
    }
   ],
   "source": [
    "basis = Basis(n_values=range(4))\n",
    "assert basis.num_states == 56\n",
    "print('number of basis states:', '%d'%basis.num_states)"
   ]
  },
  {
   "cell_type": "code",
   "execution_count": 4,
   "metadata": {},
   "outputs": [
    {
     "data": {
      "text/plain": [
       "State(n=1, L=0, S=0, J=0, MJ=0)"
      ]
     },
     "execution_count": 4,
     "metadata": {},
     "output_type": "execute_result"
    }
   ],
   "source": [
    "basis[0]"
   ]
  },
  {
   "cell_type": "code",
   "execution_count": 5,
   "metadata": {},
   "outputs": [
    {
     "data": {
      "text/plain": [
       "'-6.8033 eV'"
      ]
     },
     "execution_count": 5,
     "metadata": {},
     "output_type": "execute_result"
    }
   ],
   "source": [
    "f\"{basis[0].energy(units='eV'):.4f} eV\""
   ]
  },
  {
   "cell_type": "code",
   "execution_count": 6,
   "metadata": {},
   "outputs": [
    {
     "data": {
      "text/latex": [
       "$\\displaystyle 1^1S_0\\,(M_J = 0)$"
      ],
      "text/plain": [
       "<IPython.core.display.Math object>"
      ]
     },
     "metadata": {},
     "output_type": "display_data"
    }
   ],
   "source": [
    "display(Math(basis[0].tex()))"
   ]
  },
  {
   "cell_type": "code",
   "execution_count": 7,
   "metadata": {},
   "outputs": [
    {
     "name": "stdout",
     "output_type": "stream",
     "text": [
      "❘1 0 0 0 0⟩\n"
     ]
    }
   ],
   "source": [
    "mat = Hamiltonian(basis)\n",
    "print(mat.basis[0])"
   ]
  },
  {
   "cell_type": "code",
   "execution_count": 8,
   "metadata": {},
   "outputs": [
    {
     "name": "stdout",
     "output_type": "stream",
     "text": [
      "[1 1 1 1 2 2 2 2 2 2 2 2 2 2 2 2 2 2 2 2 3 3 3 3 3 3 3 3 3 3 3 3 3 3 3 3 3\n",
      " 3 3 3 3 3 3 3 3 3 3 3 3 3 3 3 3 3 3 3]\n"
     ]
    }
   ],
   "source": [
    "n_values = basis.values('n', ndarray=True)\n",
    "print(n_values)"
   ]
  },
  {
   "cell_type": "code",
   "execution_count": 9,
   "metadata": {},
   "outputs": [
    {
     "data": {
      "text/plain": [
       "State(n=2, L=1, S=1, J=2, MJ=0)"
      ]
     },
     "execution_count": 9,
     "metadata": {},
     "output_type": "execute_result"
    }
   ],
   "source": [
    "basis[14]"
   ]
  },
  {
   "cell_type": "code",
   "execution_count": 10,
   "metadata": {},
   "outputs": [
    {
     "data": {
      "text/latex": [
       "$\\displaystyle 2^3P_2\\,(M_J = 0)$"
      ],
      "text/plain": [
       "<IPython.core.display.Math object>"
      ]
     },
     "metadata": {},
     "output_type": "display_data"
    }
   ],
   "source": [
    "display(Math(basis[14].tex()))"
   ]
  },
  {
   "cell_type": "code",
   "execution_count": 11,
   "metadata": {},
   "outputs": [
    {
     "data": {
      "text/plain": [
       "[State(n=2, L=0, S=0, J=0, MJ=0),\n",
       " State(n=2, L=1, S=1, J=0, MJ=0),\n",
       " State(n=2, L=1, S=1, J=1, MJ=-1),\n",
       " State(n=2, L=1, S=1, J=1, MJ=0),\n",
       " State(n=2, L=1, S=1, J=1, MJ=1),\n",
       " State(n=2, L=1, S=0, J=1, MJ=-1),\n",
       " State(n=2, L=1, S=0, J=1, MJ=0),\n",
       " State(n=2, L=1, S=0, J=1, MJ=1),\n",
       " State(n=2, L=1, S=1, J=2, MJ=-2),\n",
       " State(n=2, L=1, S=1, J=2, MJ=-1),\n",
       " State(n=2, L=1, S=1, J=2, MJ=0),\n",
       " State(n=2, L=1, S=1, J=2, MJ=1),\n",
       " State(n=2, L=1, S=1, J=2, MJ=2),\n",
       " State(n=2, L=0, S=1, J=1, MJ=-1),\n",
       " State(n=2, L=0, S=1, J=1, MJ=0),\n",
       " State(n=2, L=0, S=1, J=1, MJ=1)]"
      ]
     },
     "execution_count": 11,
     "metadata": {},
     "output_type": "execute_result"
    }
   ],
   "source": [
    "list(basis.where(lambda x: x.n == 2))"
   ]
  },
  {
   "cell_type": "code",
   "execution_count": 12,
   "metadata": {},
   "outputs": [
    {
     "name": "stderr",
     "output_type": "stream",
     "text": [
      "calculate Stark terms: 100%|██████████| 56/56 [00:11<00:00,  4.98it/s]\n",
      "calculate Zeeman terms: 100%|██████████| 56/56 [00:00<00:00, 206.83it/s]\n"
     ]
    }
   ],
   "source": [
    "electric_field = 10.1   # [V / m]\n",
    "magnetic_field = 0.1    # [T]\n",
    "en = mat.eigenvalues(electric_field, magnetic_field, units='eV')"
   ]
  },
  {
   "cell_type": "code",
   "execution_count": 13,
   "metadata": {},
   "outputs": [
    {
     "name": "stdout",
     "output_type": "stream",
     "text": [
      "[-1.70078788 -1.70075795 -1.70073993 -1.70073993 -1.7007338  -1.70073054\n",
      " -1.70072531 -1.70072531 -1.70071568 -1.70071568 -1.70071048 -1.70071048\n",
      " -1.70070988 -1.70068097 -1.70068097 -1.70067971]\n"
     ]
    }
   ],
   "source": [
    "idx = basis.argwhere(lambda state: state.n == 2, ndarray=True)\n",
    "print(en[idx])"
   ]
  },
  {
   "cell_type": "code",
   "execution_count": 14,
   "metadata": {},
   "outputs": [
    {
     "name": "stdout",
     "output_type": "stream",
     "text": [
      "❘1 0 0 0 0⟩\n",
      "❘2 0 0 0 0⟩\n",
      "❘2 1 0 1 0⟩\n",
      "❘3 0 0 0 0⟩\n",
      "❘3 1 0 1 0⟩\n",
      "❘3 2 0 2 0⟩\n",
      "❘2 1 1 1 0⟩\n",
      "❘3 1 1 1 0⟩\n",
      "❘3 2 1 2 0⟩\n"
     ]
    }
   ],
   "source": [
    "sub_basis = Basis(range(4),\n",
    "                  MJ_values=[0],\n",
    "                  filter_function=lambda x: x.J==x.L,\n",
    "                  sort_key=lambda x: x.S)\n",
    "print(*sub_basis, sep=\"\\n\")"
   ]
  },
  {
   "cell_type": "code",
   "execution_count": 15,
   "metadata": {},
   "outputs": [],
   "source": [
    "vals, vecs = mat.eigenvectors(electric_field=100)"
   ]
  },
  {
   "cell_type": "code",
   "execution_count": 16,
   "metadata": {},
   "outputs": [
    {
     "data": {
      "text/plain": [
       "array([-0.25001747, -0.24998641, -0.24998641, -0.24998641, -0.06250276,\n",
       "       -0.06250165, -0.06250081, -0.06250081, -0.06250081, -0.06250054,\n",
       "       -0.06250054, -0.06250054, -0.06250015, -0.06250015, -0.06250015,\n",
       "       -0.06250015, -0.06250015, -0.06249887, -0.06249887, -0.06249887,\n",
       "       -0.02777865, -0.02777832, -0.02777808, -0.02777808, -0.02777808,\n",
       "       -0.02777799, -0.02777799, -0.02777799, -0.02777794, -0.02777794,\n",
       "       -0.02777794, -0.02777788, -0.02777788, -0.02777788, -0.02777788,\n",
       "       -0.02777788, -0.02777788, -0.02777788, -0.02777788, -0.02777788,\n",
       "       -0.02777788, -0.02777786, -0.02777786, -0.02777786, -0.02777786,\n",
       "       -0.02777786, -0.02777782, -0.02777782, -0.02777782, -0.02777782,\n",
       "       -0.02777781, -0.02777781, -0.02777781, -0.0277775 , -0.0277775 ,\n",
       "       -0.0277775 ])"
      ]
     },
     "execution_count": 16,
     "metadata": {},
     "output_type": "execute_result"
    }
   ],
   "source": [
    "vals"
   ]
  },
  {
   "cell_type": "code",
   "execution_count": 17,
   "metadata": {},
   "outputs": [
    {
     "data": {
      "text/plain": [
       "array([[ 1.00000000e+00, -2.31010497e-37,  6.48982342e-33, ...,\n",
       "        -4.69526736e-29,  0.00000000e+00,  5.97260967e-29],\n",
       "       [-7.40947034e-22,  2.54783000e-01, -5.77179432e-02, ...,\n",
       "        -1.47413932e-16, -3.60221390e-15,  3.27088907e-12],\n",
       "       [-2.00462052e-22, -9.41419898e-01,  2.13267059e-01, ...,\n",
       "         3.23704941e-12,  9.27352185e-20,  1.44571025e-16],\n",
       "       ...,\n",
       "       [ 3.88850370e-39, -7.82959537e-19, -9.18920401e-18, ...,\n",
       "         4.42745953e-05,  1.10127292e-03, -9.99978930e-01],\n",
       "       [ 1.05221653e-39,  4.51558393e-18,  6.31153269e-18, ...,\n",
       "        -9.99978929e-01, -2.82593577e-08, -4.42746265e-05],\n",
       "       [-3.40500418e-48, -1.15946511e-18, -5.12703576e-18, ...,\n",
       "         7.70188384e-08, -9.99978931e-01, -1.10127292e-03]])"
      ]
     },
     "execution_count": 17,
     "metadata": {},
     "output_type": "execute_result"
    }
   ],
   "source": [
    "vecs"
   ]
  },
  {
   "cell_type": "code",
   "execution_count": null,
   "metadata": {},
   "outputs": [],
   "source": []
  }
 ],
 "metadata": {
  "kernelspec": {
   "display_name": "Python 3",
   "language": "python",
   "name": "python3"
  },
  "language_info": {
   "codemirror_mode": {
    "name": "ipython",
    "version": 3
   },
   "file_extension": ".py",
   "mimetype": "text/x-python",
   "name": "python",
   "nbconvert_exporter": "python",
   "pygments_lexer": "ipython3",
   "version": "3.7.4"
  }
 },
 "nbformat": 4,
 "nbformat_minor": 2
}
